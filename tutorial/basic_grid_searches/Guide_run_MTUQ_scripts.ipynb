{
 "cells": [
  {
   "cell_type": "markdown",
   "id": "3ac38bb0-0d2e-403a-a8d8-85d71e678c55",
   "metadata": {},
   "source": [
    "# Sampler for different flavors of MTUQ grid-searches\n",
    "#### Félix Rodríguez-Cardozo\n",
    "\n",
    "This notebook intends to provide a quick interaction with MTUQ through the module MTUQ_GridSearch_master. This module pre-elaborates several pieces of the MTUQ code for estimating double-couple (DC), deviatoric (DEV), and full moment tensors (FMT) by using body waves, surface waves, or both. This package also includes pre-calculated Green Functions (GFs) using either 1D (calculated with FK) or 3D (calculated with Specfem3D) velocity models. "
   ]
  },
  {
   "cell_type": "code",
   "execution_count": null,
   "id": "19ea328c-5126-49ba-868d-b9e91a38e7fe",
   "metadata": {},
   "outputs": [],
   "source": [
    "# Let's explore the package content\n",
    "! ls"
   ]
  },
  {
   "cell_type": "markdown",
   "id": "f8dbf4db-1182-48af-8bc5-3320a79e9126",
   "metadata": {},
   "source": [
    "**1.20171201023244**: event directory that contains the waveforms for a Mw. 6.0 [earthquake in Iran](https://earthquake.usgs.gov/earthquakes/eventpage/us2000c3mi/executive). This directory contains traces from 3 regional stations. \n",
    "\n",
    "**2. greens/ir/ir_6**: directory with the Green functions (GFs) calculated using a FK and a regional 1D velocity model for Iran. These GFs are calculated assuming an earthquake depth of 6km.\n",
    "\n",
    "**3. 3D/20171201023244/6/**: directory with the GFs calculated using Specfem3D and a 3D velocity model. Similarly to the 1D based GFs, these ones also assummed a source depth of 6km. \n",
    "\n",
    "**4. MTUQ_GridSearch_master.py**: Python script with the pre-elaborated MTUQ commands for estimating  moment tensors using different parameter. This is the module to be used in this notebook. "
   ]
  },
  {
   "cell_type": "code",
   "execution_count": null,
   "id": "1e75787c-df64-4ac4-a7e6-5992f9df11b4",
   "metadata": {},
   "outputs": [],
   "source": [
    "#Load the modules\n",
    "import MTUQ_GridSearch_master\n",
    "import importlib\n",
    "importlib.reload(MTUQ_GridSearch_master)"
   ]
  },
  {
   "cell_type": "markdown",
   "id": "bf55ce22-d0fd-4ac1-bb96-bd972eca263c",
   "metadata": {},
   "source": [
    "Use the help command for seeing the details about the use of the module **MTUQ_GridSearch_master**"
   ]
  },
  {
   "cell_type": "code",
   "execution_count": null,
   "id": "b45a0606-5632-4716-9329-58c26b9ef0cd",
   "metadata": {},
   "outputs": [],
   "source": [
    "help(MTUQ_GridSearch_master.launch_MTUQ)"
   ]
  },
  {
   "cell_type": "markdown",
   "id": "36381f87-1416-4312-b312-6217a1c895a0",
   "metadata": {},
   "source": [
    "## USING launch_MTUQ subroutine."
   ]
  },
  {
   "cell_type": "markdown",
   "id": "36761f76-d28c-463d-8b2e-634cd68bd769",
   "metadata": {},
   "source": [
    "#### 1. Run DC grid search for a 1D velocity model using body waves"
   ]
  },
  {
   "cell_type": "code",
   "execution_count": null,
   "id": "4b6fa1fa-cf25-4c52-90de-9e8bcf31649a",
   "metadata": {},
   "outputs": [],
   "source": [
    "# Run DC grid search for a 1D velocity model using body waves\n",
    "gs_type = 'DC'\n",
    "vel_model = '1D'\n",
    "waves = 1 \n",
    "event = '20171201023244'\n",
    "gf_dir ='greens/ir'\n",
    "evla = 30.734\n",
    "evlo = 57.39\n",
    "evdp = 6000\n",
    "mw = [5.8,6.0,0.1]\n",
    "ot = '2017-12-01T02:32:44.000000Z'\n",
    "ppa = 30\n",
    "filter = ['15-33']\n",
    "wl = [150]\n",
    "ts = [15]\n",
    "data_unit = 'velocity'\n",
    "\n",
    "MTUQ_GridSearch_master.launch_MTUQ(gs_type,vel_model,waves,event,gf_dir,evla,evlo,evdp,mw,ot,ppa,filter,wl,ts,data_unit)"
   ]
  },
  {
   "cell_type": "markdown",
   "id": "4a217b62-6cad-460e-a8dd-4b394ff61a73",
   "metadata": {},
   "source": [
    "#### 2. Run DEV grid search for a 1D velocity model using body waves"
   ]
  },
  {
   "cell_type": "code",
   "execution_count": null,
   "id": "d45d0ecf-7862-4811-91e7-e61c7c8e5207",
   "metadata": {},
   "outputs": [],
   "source": [
    "# Run DEV grid search for a 1D velocity model using body waves\n",
    "gs_type = 'DEV'\n",
    "vel_model = '1D'\n",
    "waves = 1 \n",
    "event = '20171201023244'\n",
    "gf_dir ='greens/ir'\n",
    "evla = 30.734\n",
    "evlo = 57.39\n",
    "evdp = 6000\n",
    "mw = [5.8,6.0,0.1]\n",
    "ot = '2017-12-01T02:32:44.000000Z'\n",
    "ppa = 10\n",
    "filter = ['3-15','15-33']\n",
    "wl = [25]\n",
    "ts = [5]\n",
    "data_unit = 'velocity'\n",
    "\n",
    "MTUQ_GridSearch_master.launch_MTUQ(gs_type,vel_model,waves,event,gf_dir,evla,evlo,evdp,mw,ot,ppa,filter,wl,ts,data_unit)"
   ]
  },
  {
   "cell_type": "markdown",
   "id": "0d509309-41cb-4a32-bccb-c1f83ca08125",
   "metadata": {},
   "source": [
    "#### 3. Run FMT grid search for a 1D velocity model using body waves"
   ]
  },
  {
   "cell_type": "code",
   "execution_count": null,
   "id": "c03e91ec-7258-42df-8a7a-7fbe88298355",
   "metadata": {},
   "outputs": [],
   "source": [
    "# Run FMT grid search for a 1D velocity model using body waves\n",
    "gs_type = 'FMT'\n",
    "vel_model = '1D'\n",
    "waves = 1 \n",
    "event = '20171201023244'\n",
    "gf_dir ='greens/ir'\n",
    "evla = 30.734\n",
    "evlo = 57.39\n",
    "evdp = 6000\n",
    "mw = [5.8,6.0,0.1]\n",
    "ot = '2017-12-01T02:32:44.000000Z'\n",
    "ppa = 10\n",
    "filter = ['3-15','15-33']\n",
    "wl = [25]\n",
    "ts = [5]\n",
    "data_unit = 'velocity'\n",
    "\n",
    "MTUQ_GridSearch_master.launch_MTUQ(gs_type,vel_model,waves,event,gf_dir,evla,evlo,evdp,mw,ot,ppa,filter,wl,ts,data_unit)"
   ]
  },
  {
   "cell_type": "markdown",
   "id": "3f001e54-ee40-48e0-8d23-3cb99ee1d9bc",
   "metadata": {},
   "source": [
    "#### 4. Run DC grid search for a 3D velocity model using body waves"
   ]
  },
  {
   "cell_type": "code",
   "execution_count": null,
   "id": "0f02ca95-4e13-4c78-a191-567bae5d62e3",
   "metadata": {},
   "outputs": [],
   "source": [
    "# Run DC grid search for a 3D velocity model using body waves\n",
    "gs_type = 'DC'\n",
    "vel_model = '3D'\n",
    "waves = 1 \n",
    "event = '20171201023244'\n",
    "gf_dir ='3D'\n",
    "evla = 30.734\n",
    "evlo = 57.39\n",
    "evdp = 6000\n",
    "mw = [5.8,6.0,0.1]\n",
    "ot = '2017-12-01T02:32:44.000000Z'\n",
    "ppa = 10\n",
    "filter = ['3-15']\n",
    "wl = [25]\n",
    "ts = [5]\n",
    "data_unit = 'velocity'\n",
    "\n",
    "MTUQ_GridSearch_master.launch_MTUQ(gs_type,vel_model,waves,event,gf_dir,evla,evlo,evdp,mw,ot,ppa,filter,wl,ts,data_unit)"
   ]
  },
  {
   "cell_type": "markdown",
   "id": "e91eeb34-506f-4fd3-80e6-87f8a5a57d5f",
   "metadata": {},
   "source": [
    "#### 5. Run DEV grid search for a 3D velocity model using body waves"
   ]
  },
  {
   "cell_type": "code",
   "execution_count": null,
   "id": "f9a4a053-52ac-4f08-b569-3d270545a037",
   "metadata": {},
   "outputs": [],
   "source": [
    "# Run DEV grid search for a 3D velocity model using body waves\n",
    "gs_type = 'DEV'\n",
    "vel_model = '3D'\n",
    "waves = 1 \n",
    "event = '20171201023244'\n",
    "gf_dir ='3D'\n",
    "evla = 30.734\n",
    "evlo = 57.39\n",
    "evdp = 6000\n",
    "mw = [5.8,6.0,0.1]\n",
    "ot = '2017-12-01T02:32:44.000000Z'\n",
    "ppa = 10\n",
    "filter = ['3-15']\n",
    "wl = [25]\n",
    "ts = [5]\n",
    "data_unit = 'velocity'\n",
    "\n",
    "MTUQ_GridSearch_master.launch_MTUQ(gs_type,vel_model,waves,event,gf_dir,evla,evlo,evdp,mw,ot,ppa,filter,wl,ts,data_unit)"
   ]
  },
  {
   "cell_type": "markdown",
   "id": "320521e4-fed2-479e-8668-615172d22395",
   "metadata": {},
   "source": [
    "#### 6. Run FMT grid search for a 3D velocity model using body waves"
   ]
  },
  {
   "cell_type": "code",
   "execution_count": null,
   "id": "19d95f84-483a-4622-8ab9-c92090b9a4a9",
   "metadata": {},
   "outputs": [],
   "source": [
    "# Run FMT grid search for a 3D velocity model using body waves\n",
    "gs_type = 'FMT'\n",
    "vel_model = '3D'\n",
    "waves = 1 \n",
    "event = '20171201023244'\n",
    "gf_dir ='3D'\n",
    "evla = 30.734\n",
    "evlo = 57.39\n",
    "evdp = 6000\n",
    "mw = [5.8,6.0,0.1]\n",
    "ot = '2017-12-01T02:32:44.000000Z'\n",
    "ppa = 10\n",
    "filter = ['3-15']\n",
    "wl = [25]\n",
    "ts = [5]\n",
    "data_unit = 'velocity'\n",
    "\n",
    "MTUQ_GridSearch_master.launch_MTUQ(gs_type,vel_model,waves,event,gf_dir,evla,evlo,evdp,mw,ot,ppa,filter,wl,ts,data_unit)"
   ]
  },
  {
   "cell_type": "markdown",
   "id": "13c2210d-203a-45f0-8e56-36b093fc95e3",
   "metadata": {},
   "source": [
    "#### 7. Run DC grid search for a 1D velocity model using surface waves"
   ]
  },
  {
   "cell_type": "code",
   "execution_count": null,
   "id": "d8501b13-8613-4a17-b291-65a1345c340c",
   "metadata": {},
   "outputs": [],
   "source": [
    "# Run DC grid search for a 1D velocity model using surface waves\n",
    "gs_type = 'DC'\n",
    "vel_model = '1D'\n",
    "waves = 2 \n",
    "event = '20171201023244'\n",
    "gf_dir ='greens/ir'\n",
    "evla = 30.734\n",
    "evlo = 57.39\n",
    "evdp = 6000\n",
    "mw = [5.8,6.0,0.1]\n",
    "ot = '2017-12-01T02:32:44.000000Z'\n",
    "ppa = 30\n",
    "filter = ['15-33']\n",
    "wl = [150]\n",
    "ts = [15]\n",
    "data_unit = 'velocity'\n",
    "\n",
    "MTUQ_GridSearch_master.launch_MTUQ(gs_type,vel_model,waves,event,gf_dir,evla,evlo,evdp,mw,ot,ppa,filter,wl,ts,data_unit)"
   ]
  },
  {
   "cell_type": "markdown",
   "id": "aec4357a-4b49-45fd-bf82-6f71ee17e46d",
   "metadata": {},
   "source": [
    "#### 8. Run DEV grid search for a 1D velocity model using surface waves"
   ]
  },
  {
   "cell_type": "code",
   "execution_count": null,
   "id": "3ba40d94-06e5-4ca1-a4df-b2318514aa6a",
   "metadata": {},
   "outputs": [],
   "source": [
    "# Run DEV grid search for a 1D velocity model using surface waves\n",
    "gs_type = 'DEV'\n",
    "vel_model = '1D'\n",
    "waves = 2 \n",
    "event = '20171201023244'\n",
    "gf_dir ='greens/ir'\n",
    "evla = 30.734\n",
    "evlo = 57.39\n",
    "evdp = 6000\n",
    "mw = [5.8,6.0,0.1]\n",
    "ot = '2017-12-01T02:32:44.000000Z'\n",
    "ppa = 10\n",
    "filter = ['15-33']\n",
    "wl = [150]\n",
    "ts = [15]\n",
    "data_unit = 'velocity'\n",
    "\n",
    "MTUQ_GridSearch_master.launch_MTUQ(gs_type,vel_model,waves,event,gf_dir,evla,evlo,evdp,mw,ot,ppa,filter,wl,ts,data_unit)"
   ]
  },
  {
   "cell_type": "markdown",
   "id": "803bfd1f-7e0b-4b80-a46b-2f5166210b33",
   "metadata": {},
   "source": [
    "#### 9. Run FMT grid search for a 1D velocity model using surface waves"
   ]
  },
  {
   "cell_type": "code",
   "execution_count": null,
   "id": "0483c8c0-b16f-40f5-be81-248ceb248326",
   "metadata": {},
   "outputs": [],
   "source": [
    "# Run FMT grid search for a 1D velocity model using surface waves\n",
    "gs_type = 'FMT'\n",
    "vel_model = '1D'\n",
    "waves = 2 \n",
    "event = '20171201023244'\n",
    "gf_dir ='greens/ir'\n",
    "evla = 30.734\n",
    "evlo = 57.39\n",
    "evdp = 6000\n",
    "mw = [5.8,6.0,0.1]\n",
    "ot = '2017-12-01T02:32:44.000000Z'\n",
    "ppa = 10\n",
    "filter = ['15-33']\n",
    "wl = [150]\n",
    "ts = [15]\n",
    "data_unit = 'velocity'\n",
    "\n",
    "MTUQ_GridSearch_master.launch_MTUQ(gs_type,vel_model,waves,event,gf_dir,evla,evlo,evdp,mw,ot,ppa,filter,wl,ts,data_unit)"
   ]
  },
  {
   "cell_type": "markdown",
   "id": "d4058847-541e-4bcc-a382-a03f0bd95f89",
   "metadata": {},
   "source": [
    "#### 10. Run DC grid search for a 3D velocity model using surface waves"
   ]
  },
  {
   "cell_type": "code",
   "execution_count": null,
   "id": "cbca5d67-a8a6-46c1-abde-390d537ded3e",
   "metadata": {},
   "outputs": [],
   "source": [
    "# Run DC grid search for a 3D velocity model using surface waves\n",
    "gs_type = 'DC'\n",
    "vel_model = '3D'\n",
    "waves = 2 \n",
    "event = '20171201023244'\n",
    "gf_dir ='3D'\n",
    "evla = 30.734\n",
    "evlo = 57.39\n",
    "evdp = 6000\n",
    "mw = [5.8,6.0,0.1]\n",
    "ot = '2017-12-01T02:32:44.000000Z'\n",
    "ppa = 10\n",
    "filter = ['3-15']\n",
    "wl = [150]\n",
    "ts = [15]\n",
    "data_unit = 'velocity'\n",
    "\n",
    "MTUQ_GridSearch_master.launch_MTUQ(gs_type,vel_model,waves,event,gf_dir,evla,evlo,evdp,mw,ot,ppa,filter,wl,ts,data_unit)"
   ]
  },
  {
   "cell_type": "markdown",
   "id": "c49ae570-5e78-44c4-966e-c1ac2f45e8dd",
   "metadata": {},
   "source": [
    "#### 11. Run DEV grid search for a 3D velocity model using surface waves"
   ]
  },
  {
   "cell_type": "code",
   "execution_count": null,
   "id": "66e3342e-df90-4521-a04e-8d9bb61b4c12",
   "metadata": {},
   "outputs": [],
   "source": [
    "# Run DC grid search for a 3D velocity model using body waves\n",
    "gs_type = 'DEV'\n",
    "vel_model = '3D'\n",
    "waves = 2 \n",
    "event = '20171201023244'\n",
    "gf_dir ='3D'\n",
    "evla = 30.734\n",
    "evlo = 57.39\n",
    "evdp = 6000\n",
    "mw = [5.8,6.0,0.1]\n",
    "ot = '2017-12-01T02:32:44.000000Z'\n",
    "ppa = 10\n",
    "filter = ['3-15']\n",
    "wl = [150]\n",
    "ts = [15]\n",
    "data_unit = 'velocity'\n",
    "\n",
    "MTUQ_GridSearch_master.launch_MTUQ(gs_type,vel_model,waves,event,gf_dir,evla,evlo,evdp,mw,ot,ppa,filter,wl,ts,data_unit)"
   ]
  },
  {
   "cell_type": "markdown",
   "id": "372f5dcc-53ca-49ae-b942-27a826be9735",
   "metadata": {},
   "source": [
    "#### 12. Run FMT grid search for a 3D velocity model using surface waves"
   ]
  },
  {
   "cell_type": "code",
   "execution_count": null,
   "id": "8f12b5b1-2941-4c52-aac0-bc145ac660ce",
   "metadata": {},
   "outputs": [],
   "source": [
    "# Run DC grid search for a 3D velocity model using body waves\n",
    "gs_type = 'FMT'\n",
    "vel_model = '3D'\n",
    "waves = 2 \n",
    "event = '20171201023244'\n",
    "gf_dir ='3D'\n",
    "evla = 30.734\n",
    "evlo = 57.39\n",
    "evdp = 6000\n",
    "mw = [5.8,6.0,0.1]\n",
    "ot = '2017-12-01T02:32:44.000000Z'\n",
    "ppa = 10\n",
    "filter = ['3-15']\n",
    "wl = [150]\n",
    "ts = [15]\n",
    "data_unit = 'velocity'\n",
    "\n",
    "MTUQ_GridSearch_master.launch_MTUQ(gs_type,vel_model,waves,event,gf_dir,evla,evlo,evdp,mw,ot,ppa,filter,wl,ts,data_unit)"
   ]
  },
  {
   "cell_type": "markdown",
   "id": "af2a7155-c4bf-4e73-9a6e-5c3ad2160ac0",
   "metadata": {},
   "source": [
    "#### 13. Run DC grid search for a 1D velocity model using body and surface waves"
   ]
  },
  {
   "cell_type": "code",
   "execution_count": null,
   "id": "684939f8-2086-4ebf-9bb1-ac2d36a7d157",
   "metadata": {},
   "outputs": [],
   "source": [
    "# Run DC grid search for a 1D velocity model using body and surface waves\n",
    "gs_type = 'DC'\n",
    "vel_model = '1D'\n",
    "waves = 3 \n",
    "event = '20171201023244'\n",
    "gf_dir ='greens/ir'\n",
    "evla = 30.734\n",
    "evlo = 57.39\n",
    "evdp = 6000\n",
    "mw = [5.8,6.0,0.1]\n",
    "ot = '2017-12-01T02:32:44.000000Z'\n",
    "ppa = 10\n",
    "filter = ['3-15','15-33']\n",
    "wl = [25,150]\n",
    "ts = [5,15]\n",
    "data_unit = 'velocity'\n",
    "\n",
    "MTUQ_GridSearch_master.launch_MTUQ(gs_type,vel_model,waves,event,gf_dir,evla,evlo,evdp,mw,ot,ppa,filter,wl,ts,data_unit)"
   ]
  },
  {
   "cell_type": "markdown",
   "id": "62247162-45e5-4da2-bd1c-a9d366112933",
   "metadata": {},
   "source": [
    "#### 14. Run DEV grid search for a 1D velocity model using body and surface waves"
   ]
  },
  {
   "cell_type": "code",
   "execution_count": null,
   "id": "5262b4db-629c-43f8-9245-8ab9f5b04e88",
   "metadata": {},
   "outputs": [],
   "source": [
    "# Run DEV grid search for a 1D velocity model using body and surface waves\n",
    "gs_type = 'DEV'\n",
    "vel_model = '1D'\n",
    "waves = 3 \n",
    "event = '20171201023244'\n",
    "gf_dir ='greens/ir'\n",
    "evla = 30.734\n",
    "evlo = 57.39\n",
    "evdp = 6000\n",
    "mw = [5.8,6.0,0.1]\n",
    "ot = '2017-12-01T02:32:44.000000Z'\n",
    "ppa = 10\n",
    "filter = ['3-15','15-33']\n",
    "wl = [25,150]\n",
    "ts = [5,15]\n",
    "data_unit = 'velocity'\n",
    "\n",
    "MTUQ_GridSearch_master.launch_MTUQ(gs_type,vel_model,waves,event,gf_dir,evla,evlo,evdp,mw,ot,ppa,filter,wl,ts,data_unit)"
   ]
  },
  {
   "cell_type": "markdown",
   "id": "4f40950e-7a50-4174-a68f-ba3a5155aa56",
   "metadata": {},
   "source": [
    "#### 15. Run FMT grid search for a 1D velocity model using body and surface waves"
   ]
  },
  {
   "cell_type": "code",
   "execution_count": null,
   "id": "4f4d68cd-17b0-4012-b4d3-f4d7b3bbb3c1",
   "metadata": {},
   "outputs": [],
   "source": [
    "# Run FMT grid search for a 1D velocity model using body and surface waves\n",
    "gs_type = 'FMT'\n",
    "vel_model = '1D'\n",
    "waves = 3 \n",
    "event = '20171201023244'\n",
    "gf_dir ='greens/ir'\n",
    "evla = 30.734\n",
    "evlo = 57.39\n",
    "evdp = 6000\n",
    "mw = [5.8,6.0,0.1]\n",
    "ot = '2017-12-01T02:32:44.000000Z'\n",
    "ppa = 10\n",
    "filter = ['3-15','15-33']\n",
    "wl = [25,150]\n",
    "ts = [5,15]\n",
    "data_unit = 'velocity'\n",
    "\n",
    "MTUQ_GridSearch_master.launch_MTUQ(gs_type,vel_model,waves,event,gf_dir,evla,evlo,evdp,mw,ot,ppa,filter,wl,ts,data_unit)"
   ]
  },
  {
   "cell_type": "markdown",
   "id": "2ddfdc87-4a20-4d89-9b52-40451f047743",
   "metadata": {},
   "source": [
    "#### 16. Run DC grid search for a 3D velocity model using body and surface waves"
   ]
  },
  {
   "cell_type": "code",
   "execution_count": null,
   "id": "2d1b3bb6-0caf-468b-ac23-d9c499b415cf",
   "metadata": {},
   "outputs": [],
   "source": [
    "# Run DC grid search for a 3D velocity model using body and surface waves\n",
    "gs_type = 'DC'\n",
    "vel_model = '3D'\n",
    "waves = 3 \n",
    "event = '20171201023244'\n",
    "gf_dir ='3D'\n",
    "evla = 30.734\n",
    "evlo = 57.39\n",
    "evdp = 6000\n",
    "mw = [5.8,6.0,0.1]\n",
    "ot = '2017-12-01T02:32:44.000000Z'\n",
    "ppa = 10\n",
    "filter = ['3-15','15-33']\n",
    "wl = [25,150]\n",
    "ts = [5,15]\n",
    "data_unit = 'velocity'\n",
    "\n",
    "MTUQ_GridSearch_master.launch_MTUQ(gs_type,vel_model,waves,event,gf_dir,evla,evlo,evdp,mw,ot,ppa,filter,wl,ts,data_unit)"
   ]
  },
  {
   "cell_type": "markdown",
   "id": "7067e821-d08a-475e-a177-d40397eed935",
   "metadata": {},
   "source": [
    "#### 17. Run DEV grid search for a 3D velocity model using body and surface waves"
   ]
  },
  {
   "cell_type": "code",
   "execution_count": null,
   "id": "e0d00e79-a5b0-460e-b417-89d83601ab1e",
   "metadata": {},
   "outputs": [],
   "source": [
    "# Run DC grid search for a 3D velocity model using body and surface waves\n",
    "gs_type = 'DEV'\n",
    "vel_model = '3D'\n",
    "waves = 3 \n",
    "event = '20171201023244'\n",
    "gf_dir ='3D'\n",
    "evla = 30.734\n",
    "evlo = 57.39\n",
    "evdp = 6000\n",
    "mw = [5.8,6.0,0.1]\n",
    "ot = '2017-12-01T02:32:44.000000Z'\n",
    "ppa = 10\n",
    "filter = ['3-15','15-33']\n",
    "wl = [25,150]\n",
    "ts = [5,15]\n",
    "data_unit = 'velocity'\n",
    "\n",
    "MTUQ_GridSearch_master.launch_MTUQ(gs_type,vel_model,waves,event,gf_dir,evla,evlo,evdp,mw,ot,ppa,filter,wl,ts,data_unit)"
   ]
  },
  {
   "cell_type": "markdown",
   "id": "705236a8-1b21-4a10-b6e5-9bc38fb52b6d",
   "metadata": {},
   "source": [
    "#### 18. Run FMT grid search for a 3D velocity model using body and surface waves"
   ]
  },
  {
   "cell_type": "code",
   "execution_count": null,
   "id": "bd73c161-94e4-41f0-9a97-d5b8d0342c54",
   "metadata": {},
   "outputs": [],
   "source": [
    "# Run Dev grid search for a 3D velocity model using body and surface waves\n",
    "gs_type = 'FMT'\n",
    "vel_model = '3D'\n",
    "waves = 3 \n",
    "event = '20171201023244'\n",
    "gf_dir ='3D'\n",
    "evla = 30.734\n",
    "evlo = 57.39\n",
    "evdp = 6000\n",
    "mw = [5.8,6.0,0.1]\n",
    "ot = '2017-12-01T02:32:44.000000Z'\n",
    "ppa = 10\n",
    "filter = ['3-15','15-33']\n",
    "wl = [25,150]\n",
    "ts = [5,15]\n",
    "data_unit = 'velocity'\n",
    "\n",
    "MTUQ_GridSearch_master.launch_MTUQ(gs_type,vel_model,waves,event,gf_dir,evla,evlo,evdp,mw,ot,ppa,filter,wl,ts,data_unit)"
   ]
  },
  {
   "cell_type": "markdown",
   "id": "88b37af1-a688-4124-b7d3-17ccd64a766e",
   "metadata": {},
   "source": [
    "### These are the combinations of all possible basic MTUQ grid-searches. Now try to play around with the parameters and adapt them to your own data. "
   ]
  }
 ],
 "metadata": {
  "kernelspec": {
   "display_name": "Python 3 (ipykernel)",
   "language": "python",
   "name": "python3"
  },
  "language_info": {
   "codemirror_mode": {
    "name": "ipython",
    "version": 3
   },
   "file_extension": ".py",
   "mimetype": "text/x-python",
   "name": "python",
   "nbconvert_exporter": "python",
   "pygments_lexer": "ipython3",
   "version": "3.8.13"
  }
 },
 "nbformat": 4,
 "nbformat_minor": 5
}
